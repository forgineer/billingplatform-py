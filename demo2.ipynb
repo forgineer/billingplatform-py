{
 "cells": [
  {
   "cell_type": "code",
   "execution_count": 6,
   "id": "946fe03a",
   "metadata": {},
   "outputs": [
    {
     "name": "stdout",
     "output_type": "stream",
     "text": [
      "Login successful: {\n",
      "  \"loginResponse\": [\n",
      "    {\n",
      "      \"ErrorCode\": \"0\",\n",
      "      \"ErrorText\": [],\n",
      "      \"SessionID\": \"thisIsASessionID\"\n",
      "    }\n",
      "  ]\n",
      "}\n",
      "\n"
     ]
    }
   ],
   "source": [
    "from billingplatform import BillingPlatform\n",
    "\n",
    "# Basic usage example of the initialization of the BillingPlatform client\n",
    "bp = BillingPlatform(base_url='http://localhost', username='blake', password='passwd')"
   ]
  },
  {
   "cell_type": "code",
   "execution_count": 7,
   "id": "2da3f2c4",
   "metadata": {},
   "outputs": [],
   "source": [
    "bp.logout()"
   ]
  }
 ],
 "metadata": {
  "kernelspec": {
   "display_name": ".venv",
   "language": "python",
   "name": "python3"
  },
  "language_info": {
   "codemirror_mode": {
    "name": "ipython",
    "version": 3
   },
   "file_extension": ".py",
   "mimetype": "text/x-python",
   "name": "python",
   "nbconvert_exporter": "python",
   "pygments_lexer": "ipython3",
   "version": "3.11.9"
  }
 },
 "nbformat": 4,
 "nbformat_minor": 5
}
