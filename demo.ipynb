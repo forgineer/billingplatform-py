{
 "cells": [
  {
   "cell_type": "code",
   "execution_count": 4,
   "id": "946fe03a",
   "metadata": {},
   "outputs": [],
   "source": [
    "from billingplatform import BillingPlatform\n",
    "\n",
    "# Basic usage example of the initialization of the BillingPlatform client\n",
    "bp = BillingPlatform(client_id='ABC1234567890'\n",
    "                     , client_secret='1234567890ABCDEF1234567890ABCDEF'\n",
    "                     , base_url='https://api.billingplatform.com')"
   ]
  },
  {
   "cell_type": "code",
   "execution_count": 5,
   "id": "be840150",
   "metadata": {},
   "outputs": [
    {
     "name": "stdout",
     "output_type": "stream",
     "text": [
      "{'queryResponse': [{'Id': 1, 'Name': 'Account 1', 'Description': 'The first account', 'Status': 'ACTIVE'}, {'Id': 2, 'Name': 'CURRENT', 'Description': 'The second account', 'Status': 'ACTIVE'}, {'Id': 3, 'Name': 'Account 3', 'Description': 'The third account', 'Status': 'INACTIVE'}]}\n"
     ]
    }
   ],
   "source": [
    "# Example of using the query method to retrieve data.\n",
    "# This would translate to making a GET request to the BillingPlatform query method\n",
    "account_data = bp.query(sql='SELECT Name, Description, Status FROM ACCOUNT')\n",
    "\n",
    "print(account_data)"
   ]
  },
  {
   "cell_type": "code",
   "execution_count": 6,
   "id": "42a5ad68",
   "metadata": {},
   "outputs": [
    {
     "data": {
      "application/vnd.microsoft.datawrangler.viewer.v0+json": {
       "columns": [
        {
         "name": "index",
         "rawType": "int64",
         "type": "integer"
        },
        {
         "name": "Id",
         "rawType": "int64",
         "type": "integer"
        },
        {
         "name": "Name",
         "rawType": "object",
         "type": "string"
        },
        {
         "name": "Description",
         "rawType": "object",
         "type": "string"
        },
        {
         "name": "Status",
         "rawType": "object",
         "type": "string"
        }
       ],
       "ref": "4498705d-050b-471e-ad29-85dfe0ab24a9",
       "rows": [
        [
         "0",
         "1",
         "Account 1",
         "The first account",
         "ACTIVE"
        ],
        [
         "1",
         "2",
         "CURRENT",
         "The second account",
         "ACTIVE"
        ],
        [
         "2",
         "3",
         "Account 3",
         "The third account",
         "INACTIVE"
        ]
       ],
       "shape": {
        "columns": 4,
        "rows": 3
       }
      },
      "text/html": [
       "<div>\n",
       "<style scoped>\n",
       "    .dataframe tbody tr th:only-of-type {\n",
       "        vertical-align: middle;\n",
       "    }\n",
       "\n",
       "    .dataframe tbody tr th {\n",
       "        vertical-align: top;\n",
       "    }\n",
       "\n",
       "    .dataframe thead th {\n",
       "        text-align: right;\n",
       "    }\n",
       "</style>\n",
       "<table border=\"1\" class=\"dataframe\">\n",
       "  <thead>\n",
       "    <tr style=\"text-align: right;\">\n",
       "      <th></th>\n",
       "      <th>Id</th>\n",
       "      <th>Name</th>\n",
       "      <th>Description</th>\n",
       "      <th>Status</th>\n",
       "    </tr>\n",
       "  </thead>\n",
       "  <tbody>\n",
       "    <tr>\n",
       "      <th>0</th>\n",
       "      <td>1</td>\n",
       "      <td>Account 1</td>\n",
       "      <td>The first account</td>\n",
       "      <td>ACTIVE</td>\n",
       "    </tr>\n",
       "    <tr>\n",
       "      <th>1</th>\n",
       "      <td>2</td>\n",
       "      <td>CURRENT</td>\n",
       "      <td>The second account</td>\n",
       "      <td>ACTIVE</td>\n",
       "    </tr>\n",
       "    <tr>\n",
       "      <th>2</th>\n",
       "      <td>3</td>\n",
       "      <td>Account 3</td>\n",
       "      <td>The third account</td>\n",
       "      <td>INACTIVE</td>\n",
       "    </tr>\n",
       "  </tbody>\n",
       "</table>\n",
       "</div>"
      ],
      "text/plain": [
       "   Id       Name         Description    Status\n",
       "0   1  Account 1   The first account    ACTIVE\n",
       "1   2    CURRENT  The second account    ACTIVE\n",
       "2   3  Account 3   The third account  INACTIVE"
      ]
     },
     "metadata": {},
     "output_type": "display_data"
    }
   ],
   "source": [
    "# Once the data is retrieved, it can be processed or displayed using pandas (or polars)\n",
    "# for additional data manipulation and analysis.\n",
    "import pandas as pd\n",
    "\n",
    "accounts_df = pd.DataFrame(account_data.get('queryResponse', None))\n",
    "\n",
    "display(accounts_df)"
   ]
  },
  {
   "cell_type": "code",
   "execution_count": 7,
   "id": "15c3d95f",
   "metadata": {},
   "outputs": [
    {
     "ename": "AttributeError",
     "evalue": "'BillingPlatform' object has no attribute 'billingplatform'",
     "output_type": "error",
     "traceback": [
      "\u001b[31m---------------------------------------------------------------------------\u001b[39m",
      "\u001b[31mAttributeError\u001b[39m                            Traceback (most recent call last)",
      "\u001b[36mCell\u001b[39m\u001b[36m \u001b[39m\u001b[32mIn[7]\u001b[39m\u001b[32m, line 1\u001b[39m\n\u001b[32m----> \u001b[39m\u001b[32m1\u001b[39m account_data = \u001b[43mbp\u001b[49m\u001b[43m.\u001b[49m\u001b[43mbillingplatform\u001b[49m.query(sql=\u001b[33m'\u001b[39m\u001b[33mSELECT * FROM accounts WHERE account_id = 12345\u001b[39m\u001b[33m'\u001b[39m, nbr_threads=\u001b[32m4\u001b[39m)\n\u001b[32m      3\u001b[39m \u001b[38;5;28mprint\u001b[39m(account_data)\n",
      "\u001b[31mAttributeError\u001b[39m: 'BillingPlatform' object has no attribute 'billingplatform'"
     ]
    }
   ],
   "source": [
    "account_data = bp.billingplatform.query(sql='SELECT * FROM accounts WHERE account_id = 12345', nbr_threads=4)\n",
    "\n",
    "print(account_data)"
   ]
  }
 ],
 "metadata": {
  "kernelspec": {
   "display_name": ".venv",
   "language": "python",
   "name": "python3"
  },
  "language_info": {
   "codemirror_mode": {
    "name": "ipython",
    "version": 3
   },
   "file_extension": ".py",
   "mimetype": "text/x-python",
   "name": "python",
   "nbconvert_exporter": "python",
   "pygments_lexer": "ipython3",
   "version": "3.11.9"
  }
 },
 "nbformat": 4,
 "nbformat_minor": 5
}
